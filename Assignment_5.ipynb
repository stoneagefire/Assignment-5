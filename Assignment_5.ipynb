{
 "cells": [
  {
   "cell_type": "markdown",
   "metadata": {},
   "source": [
    "<h2>Assignment-5"
   ]
  },
  {
   "cell_type": "markdown",
   "metadata": {},
   "source": [
    "<h3>1. Given a list of integers, write a function to return the sum of all prime numbers in that\n",
    "list."
   ]
  },
  {
   "cell_type": "code",
   "execution_count": 5,
   "metadata": {},
   "outputs": [
    {
     "name": "stdout",
     "output_type": "stream",
     "text": [
      "Enter list size : 5\n",
      "Value-1 : 2\n",
      "Value-2 : 3\n",
      "Value-3 : 4\n",
      "Value-4 : 5\n",
      "Value-5 : 6\n",
      "Sum of all prime values :  10\n"
     ]
    }
   ],
   "source": [
    "def prime_sum(plist):\n",
    "    psum = 0\n",
    "    for i in plist:\n",
    "        # 0 and 1 are not prime numbers\n",
    "        if i<2:\n",
    "            continue\n",
    "        else:\n",
    "            for j in range(2,i):\n",
    "                if i%j==0:\n",
    "                    break\n",
    "            else:\n",
    "                psum+=i                    \n",
    "    return psum\n",
    "\n",
    "ilist = [int(input(\"Value-{} : \".format(x+1))) for x in range(int(input(\"Enter list size : \")))]\n",
    "         \n",
    "print(\"Sum of all prime values : \",prime_sum(ilist))"
   ]
  },
  {
   "cell_type": "markdown",
   "metadata": {},
   "source": [
    "<h3>2. Given a list of integers, write a function to check whether the list is strictly increasing or\n",
    "not."
   ]
  },
  {
   "cell_type": "code",
   "execution_count": 7,
   "metadata": {},
   "outputs": [
    {
     "name": "stdout",
     "output_type": "stream",
     "text": [
      "Enter list size : 5\n",
      "Value-1 : 2\n",
      "Value-2 : 3\n",
      "Value-3 : 6\n",
      "Value-4 : 7\n",
      "Value-5 : 9\n",
      "Strictly Incresing list\n"
     ]
    }
   ],
   "source": [
    "def inc(lt):\n",
    "    l2 = list(lt)\n",
    "    l3 = set(lt)\n",
    "    \n",
    "    if len(l3)!=len(lt):\n",
    "        print(\"Not Incresing list\")\n",
    "    elif l2==sorted(lt):\n",
    "        print(\"Strictly Incresing list\")\n",
    "    else:\n",
    "        print(\"Not increasing list\")\n",
    "        \n",
    "l1 = [int(input(\"Value-{} : \".format(x+1))) for x in range(int(input(\"Enter list size : \")))]\n",
    "inc(l1)"
   ]
  },
  {
   "cell_type": "markdown",
   "metadata": {},
   "source": [
    "<h3>3. Write a function to check whether a given list is expanding or not (the difference\n",
    "between adjacent elements should keep on increasing)."
   ]
  },
  {
   "cell_type": "code",
   "execution_count": 9,
   "metadata": {},
   "outputs": [
    {
     "name": "stdout",
     "output_type": "stream",
     "text": [
      "Enter list size : 5\n",
      "Value-1 : 10\n",
      "Value-2 : 20\n",
      "Value-3 : 30\n",
      "Value-4 : 40\n",
      "Value-5 : 50\n",
      "list is expanding\n"
     ]
    }
   ],
   "source": [
    "def expanding(l):\n",
    "    dif = abs(l[1] - l[0])\n",
    "    for i in range(1, len(l)-1):\n",
    "        temp = abs(l[i+1] - l[i])\n",
    "        if temp < dif:\n",
    "            return 'list is not expanding'\n",
    "        else:\n",
    "            dif = temp\n",
    "    return 'list is expanding'\n",
    "\n",
    "l1 = [int(input(\"Value-{} : \".format(x+1))) for x in range(int(input(\"Enter list size : \")))]\n",
    "print(expanding(l1))"
   ]
  },
  {
   "cell_type": "markdown",
   "metadata": {},
   "source": [
    "<h3>4. Write a function to calculate all permutations of a given string. (Without using itertools)"
   ]
  },
  {
   "cell_type": "code",
   "execution_count": 10,
   "metadata": {},
   "outputs": [
    {
     "name": "stdout",
     "output_type": "stream",
     "text": [
      "Enter string : Hello\n",
      "Number of permutations for given string : 60\n"
     ]
    }
   ],
   "source": [
    "def permute_string(str):\n",
    "    if len(str) == 0:\n",
    "        return ['']\n",
    "    prev_list = permute_string(str[1:len(str)])\n",
    "    next_list = []\n",
    "    for i in range(0,len(prev_list)):\n",
    "        for j in range(0,len(str)):\n",
    "            new_str = prev_list[i][0:j]+str[0]+prev_list[i][j:len(str)-1]\n",
    "            if new_str not in next_list:\n",
    "                next_list.append(new_str)\n",
    "    return next_list\n",
    "\n",
    "input_str = input(\"Enter string : \")\n",
    "print(\"Number of permutations for given string :\",len(permute_string(input_str)))"
   ]
  }
 ],
 "metadata": {
  "kernelspec": {
   "display_name": "Python 3",
   "language": "python",
   "name": "python3"
  },
  "language_info": {
   "codemirror_mode": {
    "name": "ipython",
    "version": 3
   },
   "file_extension": ".py",
   "mimetype": "text/x-python",
   "name": "python",
   "nbconvert_exporter": "python",
   "pygments_lexer": "ipython3",
   "version": "3.8.3"
  }
 },
 "nbformat": 4,
 "nbformat_minor": 4
}
